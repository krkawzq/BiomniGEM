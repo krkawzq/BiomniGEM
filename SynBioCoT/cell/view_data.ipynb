{
 "cells": [
  {
   "cell_type": "code",
   "execution_count": 1,
   "id": "150917e1",
   "metadata": {},
   "outputs": [],
   "source": [
    "import pandas as pd\n",
    "import scanpy as sc\n",
    "import os"
   ]
  },
  {
   "cell_type": "code",
   "execution_count": 2,
   "id": "fda304b2",
   "metadata": {},
   "outputs": [],
   "source": [
    "home = \"/Volumes/Wzq/Datasets/CellFM/\"\n",
    "\n",
    "def load(data_name):\n",
    "    return sc.read_h5ad(os.path.join(home, data_name))"
   ]
  },
  {
   "cell_type": "code",
   "execution_count": null,
   "id": "559b19fe",
   "metadata": {},
   "outputs": [
    {
     "name": "stdout",
     "output_type": "stream",
     "text": [
      "['B cell', 'CD4 T cell', 'Monocyte_CD14', 'CD8 T cell', 'Monocyte_FCGR3A', 'NK cell', 'Megakaryocyte', 'Plasmacytoid dendritic cell', 'Hematopoietic stem cell']\n",
      "Categories (9, object): ['B cell', 'CD4 T cell', 'CD8 T cell', 'Hematopoietic stem cell', ..., 'Monocyte_CD14', 'Monocyte_FCGR3A', 'NK cell', 'Plasmacytoid dendritic cell']\n",
      "['CD16+ Monocytes', 'CD4+ T cells', 'CD14+ Monocytes', 'NKT cells', 'HSPCs', ..., 'Monocyte-derived dendritic cells', 'Plasma cells', 'Erythroid progenitors', 'Megakaryocyte progenitors', 'NK cells']\n",
      "Length: 16\n",
      "Categories (16, object): ['CD4+ T cells', 'CD8+ T cells', 'CD10+ B cells', 'CD14+ Monocytes', ..., 'NK cells', 'NKT cells', 'Plasma cells', 'Plasmacytoid dendritic cells']\n",
      "['Macro_IL1B', 'Macro_C1QC', 'cDC2_CD1C', 'Mono_CD14', 'cDC2_FCN1', ..., 'pDC_LILRA4', 'Macro_SPP1', 'cDC2_CXCL9', 'Macro_ISG15', 'cDC2_CD1A']\n",
      "Length: 21\n",
      "Categories (21, object): ['Macro_C1QC', 'Macro_FN1', 'Macro_GPNMB', 'Macro_IL1B', ..., 'cDC2_IL1B', 'cDC2_ISG15', 'cDC3_LAMP3', 'pDC_LILRA4']\n",
      "['Type 2', 'Macrophages', 'Secretory', 'Type 1', 'T cell', ..., 'Ciliated', 'Mast cell', 'Fibroblast', 'NK cell', 'Lymphatic']\n",
      "Length: 13\n",
      "Categories (13, object): ['B cell', 'Ciliated', 'Endothelium', 'Fibroblast', ..., 'T cell', 'Transformed epithelium', 'Type 1', 'Type 2']\n",
      "['Central_venous_LSECs', 'Cholangiocytes', 'Non-inflammatory_Macrophage', 'alpha-beta_T_Cells', 'Inflammatory_Macrophage', ..., 'Erythroid_Cells', 'Hepatocyte_2', 'Hepatocyte_3', 'Hepatocyte_1', 'Hepatocyte_4']\n",
      "Length: 20\n",
      "Categories (20, object): ['Central_venous_LSECs', 'Cholangiocytes', 'Erythroid_Cells', 'Hepatic_Stellate_Cells', ..., 'Portal_endothelial_Cells', 'alpha-beta_T_Cells', 'gamma-delta_T_Cells_1', 'gamma-delta_T_Cells_2']\n",
      "['fibroblast', 'unknown', 'smooth muscle cell', 'pericyte', 'endocardial cell', ..., 'mesothelial cell of epicardium', 'cardiac mesenchymal cell', 'innate lymphoid cell', 'neuron', 'adipocyte']\n",
      "Length: 17\n",
      "Categories (17, object): ['fibroblast', 'endothelial cell', 'adipocyte', 'smooth muscle cell', ..., 'vein endothelial cell', 'mesothelial cell of epicardium', 'endothelial cell of artery', 'unknown']\n",
      "['T cell', 'stem cell of epidermis', 'endothelial cell of vascular tree', 'macrophage', 'erythrocyte', 'pericyte', 'skin fibroblast', 'keratinocyte', 'melanocyte', 'endothelial cell of lymphatic vessel']\n",
      "Categories (10, object): ['T cell', 'melanocyte', 'erythrocyte', 'macrophage', ..., 'endothelial cell of lymphatic vessel', 'endothelial cell of vascular tree', 'skin fibroblast', 'stem cell of epidermis']\n"
     ]
    }
   ],
   "source": [
    "adata = load(\"HumanPBMC.h5ad\")\n",
    "print(adata.obs[\"cell_type\"].unique())\n",
    "data = load(\"Immune.h5ad\")\n",
    "print(data.obs[\"cell_type\"].unique())\n",
    "data = load(\"Myeloid.h5ad\")\n",
    "print(data.obs[\"cell_type\"].unique())\n",
    "data = load(\"Lung.h5ad\")\n",
    "print(data.obs[\"cell_type\"].unique())\n",
    "data = load(\"Liver.h5ad\")\n",
    "print(data.obs[\"cell_type\"].unique())\n",
    "data = load(\"Heart.h5ad\")\n",
    "print(data.obs[\"cell_type\"].unique())\n",
    "data = load(\"Skin.h5ad\")\n",
    "print(data.obs[\"cell_type\"].unique())"
   ]
  }
 ],
 "metadata": {
  "kernelspec": {
   "display_name": ".venv",
   "language": "python",
   "name": "python3"
  },
  "language_info": {
   "codemirror_mode": {
    "name": "ipython",
    "version": 3
   },
   "file_extension": ".py",
   "mimetype": "text/x-python",
   "name": "python",
   "nbconvert_exporter": "python",
   "pygments_lexer": "ipython3",
   "version": "3.12.11"
  }
 },
 "nbformat": 4,
 "nbformat_minor": 5
}
