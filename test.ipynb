{
 "cells": [
  {
   "cell_type": "code",
   "execution_count": 8,
   "id": "1eb8bd8a",
   "metadata": {},
   "outputs": [],
   "source": [
    "import json\n",
    "\n",
    "path = \"/Users/wzq/Documents/Code/Project/BiomniGEM/VCDatasets/datasets/processed/dataset_ChatNT.json\""
   ]
  },
  {
   "cell_type": "code",
   "execution_count": null,
   "id": "1fc788e4",
   "metadata": {},
   "outputs": [
    {
     "name": "stderr",
     "output_type": "stream",
     "text": [
      "Exception ignored in: <bound method IPythonKernel._clean_thread_parent_frames of <ipykernel.ipkernel.IPythonKernel object at 0x10871c590>>\n",
      "Traceback (most recent call last):\n",
      "  File \"/Users/wzq/Documents/Code/Project/BiomniGEM/.venv/lib/python3.11/site-packages/ipykernel/ipkernel.py\", line 797, in _clean_thread_parent_frames\n",
      "    def _clean_thread_parent_frames(\n",
      "\n",
      "KeyboardInterrupt: \n"
     ]
    },
    {
     "ename": "",
     "evalue": "",
     "output_type": "error",
     "traceback": [
      "\u001b[1;31mThe Kernel crashed while executing code in the current cell or a previous cell. \n",
      "\u001b[1;31mPlease review the code in the cell(s) to identify a possible cause of the failure. \n",
      "\u001b[1;31mClick <a href='https://aka.ms/vscodeJupyterKernelCrash'>here</a> for more info. \n",
      "\u001b[1;31mView Jupyter <a href='command:jupyter.viewOutput'>log</a> for further details."
     ]
    }
   ],
   "source": [
    "with open(path, 'r', encoding='utf-8') as f:\n",
    "    data = json.load(f)"
   ]
  },
  {
   "cell_type": "code",
   "execution_count": null,
   "id": "762ff23f",
   "metadata": {},
   "outputs": [
    {
     "name": "stdout",
     "output_type": "stream",
     "text": [
      "3330232\n",
      "{'source': 'Biology-Instructions', 'split': 'train', 'modality': 'mixed', 'task_type': 'rna_protein_interaction'}\n"
     ]
    }
   ],
   "source": [
    "print(len(data))\n",
    "print(data[0][\"metadata\"])\n",
    "\n",
    "# 获取所有唯一的 task_type\n",
    "task_types = set()\n",
    "for item in data:\n",
    "    if \"metadata\" in item and \"task_type\" in item[\"metadata\"]:\n",
    "        task_types.add(item[\"metadata\"][\"task_type\"])\n",
    "\n",
    "print(\"\\nUnique task_types:\")\n",
    "for task_type in sorted(task_types):\n",
    "    print(f\"  - {task_type}\")"
   ]
  },
  {
   "cell_type": "code",
   "execution_count": null,
   "id": "004a2f07",
   "metadata": {},
   "outputs": [],
   "source": []
  }
 ],
 "metadata": {
  "kernelspec": {
   "display_name": ".venv",
   "language": "python",
   "name": "python3"
  },
  "language_info": {
   "codemirror_mode": {
    "name": "ipython",
    "version": 3
   },
   "file_extension": ".py",
   "mimetype": "text/x-python",
   "name": "python",
   "nbconvert_exporter": "python",
   "pygments_lexer": "ipython3",
   "version": "3.11.13"
  }
 },
 "nbformat": 4,
 "nbformat_minor": 5
}
